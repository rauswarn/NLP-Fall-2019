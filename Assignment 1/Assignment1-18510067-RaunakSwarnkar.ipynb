{
 "cells": [
  {
   "cell_type": "code",
   "execution_count": 1,
   "metadata": {},
   "outputs": [],
   "source": [
    "import nltk\n",
    "import pandas as pd\n",
    "import numpy as np"
   ]
  },
  {
   "cell_type": "code",
   "execution_count": 2,
   "metadata": {},
   "outputs": [],
   "source": [
    "rawtweets = pd.read_csv('tweets-dataset.csv',encoding=\"utf-8\")"
   ]
  },
  {
   "cell_type": "code",
   "execution_count": 3,
   "metadata": {},
   "outputs": [
    {
     "data": {
      "text/plain": [
       "pandas.core.frame.DataFrame"
      ]
     },
     "execution_count": 3,
     "metadata": {},
     "output_type": "execute_result"
    }
   ],
   "source": [
    "type(rawtweets)"
   ]
  },
  {
   "cell_type": "code",
   "execution_count": 4,
   "metadata": {},
   "outputs": [
    {
     "data": {
      "text/plain": [
       "(24521, 1)"
      ]
     },
     "execution_count": 4,
     "metadata": {},
     "output_type": "execute_result"
    }
   ],
   "source": [
    "rawtweets.shape"
   ]
  },
  {
   "cell_type": "code",
   "execution_count": 5,
   "metadata": {},
   "outputs": [
    {
     "data": {
      "text/html": [
       "<div>\n",
       "<style scoped>\n",
       "    .dataframe tbody tr th:only-of-type {\n",
       "        vertical-align: middle;\n",
       "    }\n",
       "\n",
       "    .dataframe tbody tr th {\n",
       "        vertical-align: top;\n",
       "    }\n",
       "\n",
       "    .dataframe thead th {\n",
       "        text-align: right;\n",
       "    }\n",
       "</style>\n",
       "<table border=\"1\" class=\"dataframe\">\n",
       "  <thead>\n",
       "    <tr style=\"text-align: right;\">\n",
       "      <th></th>\n",
       "      <th>Sentence</th>\n",
       "    </tr>\n",
       "  </thead>\n",
       "  <tbody>\n",
       "    <tr>\n",
       "      <th>0</th>\n",
       "      <td>@BubblyDentist @MeetUunngLee nahi nahi, mere s...</td>\n",
       "    </tr>\n",
       "    <tr>\n",
       "      <th>1</th>\n",
       "      <td>going to the grammys first entertainment law b...</td>\n",
       "    </tr>\n",
       "    <tr>\n",
       "      <th>2</th>\n",
       "      <td>bohot hi badiya ji aap sunao?</td>\n",
       "    </tr>\n",
       "    <tr>\n",
       "      <th>3</th>\n",
       "      <td>Parvez Musharraf is Digvijay Singh of Pakistan...</td>\n",
       "    </tr>\n",
       "    <tr>\n",
       "      <th>4</th>\n",
       "      <td>guddu ko bass john cena k sticker ki padii hai...</td>\n",
       "    </tr>\n",
       "  </tbody>\n",
       "</table>\n",
       "</div>"
      ],
      "text/plain": [
       "                                            Sentence\n",
       "0  @BubblyDentist @MeetUunngLee nahi nahi, mere s...\n",
       "1  going to the grammys first entertainment law b...\n",
       "2                      bohot hi badiya ji aap sunao?\n",
       "3  Parvez Musharraf is Digvijay Singh of Pakistan...\n",
       "4  guddu ko bass john cena k sticker ki padii hai..."
      ]
     },
     "execution_count": 5,
     "metadata": {},
     "output_type": "execute_result"
    }
   ],
   "source": [
    "rawtweets.head(5)"
   ]
  },
  {
   "cell_type": "code",
   "execution_count": 6,
   "metadata": {},
   "outputs": [
    {
     "name": "stderr",
     "output_type": "stream",
     "text": [
      "[nltk_data] Downloading package punkt to /home/rauswarn/nltk_data...\n",
      "[nltk_data]   Package punkt is already up-to-date!\n"
     ]
    },
    {
     "data": {
      "text/plain": [
       "True"
      ]
     },
     "execution_count": 6,
     "metadata": {},
     "output_type": "execute_result"
    }
   ],
   "source": [
    "nltk.download('punkt')"
   ]
  },
  {
   "cell_type": "code",
   "execution_count": 7,
   "metadata": {},
   "outputs": [],
   "source": [
    "#tokenizing words using nltk\n",
    "tokens = []\n",
    "\n",
    "for i in range(len(rawtweets)):\n",
    "    for each in nltk.word_tokenize(rawtweets.iloc[i][0]):\n",
    "        tokens.append(each)"
   ]
  },
  {
   "cell_type": "code",
   "execution_count": 8,
   "metadata": {},
   "outputs": [
    {
     "data": {
      "text/plain": [
       "396826"
      ]
     },
     "execution_count": 8,
     "metadata": {},
     "output_type": "execute_result"
    }
   ],
   "source": [
    "len(tokens)"
   ]
  },
  {
   "cell_type": "code",
   "execution_count": 9,
   "metadata": {},
   "outputs": [],
   "source": [
    "unique_tokens = list(set(tokens))"
   ]
  },
  {
   "cell_type": "code",
   "execution_count": 10,
   "metadata": {},
   "outputs": [
    {
     "data": {
      "text/plain": [
       "49544"
      ]
     },
     "execution_count": 10,
     "metadata": {},
     "output_type": "execute_result"
    }
   ],
   "source": [
    "len(unique_tokens)"
   ]
  },
  {
   "cell_type": "code",
   "execution_count": 11,
   "metadata": {},
   "outputs": [
    {
     "name": "stdout",
     "output_type": "stream",
     "text": [
      "12\n"
     ]
    }
   ],
   "source": [
    "#before removing special characters, stop words\n",
    "ttr = (len(unique_tokens)* 100) / len(tokens)\n",
    "print(ttr)"
   ]
  },
  {
   "cell_type": "code",
   "execution_count": 12,
   "metadata": {},
   "outputs": [
    {
     "name": "stdout",
     "output_type": "stream",
     "text": [
      "297789\n"
     ]
    }
   ],
   "source": [
    "#removing special characters\n",
    "tokens_alpha = [each for each in tokens if each.isalpha()]\n",
    "print(len(tokens_alpha))"
   ]
  },
  {
   "cell_type": "code",
   "execution_count": null,
   "metadata": {},
   "outputs": [],
   "source": []
  },
  {
   "cell_type": "code",
   "execution_count": 13,
   "metadata": {},
   "outputs": [
    {
     "name": "stdout",
     "output_type": "stream",
     "text": [
      "16\n"
     ]
    }
   ],
   "source": [
    "#before removing special characters\n",
    "ttr = (len(unique_tokens)* 100) / len(tokens_alpha)\n",
    "print(ttr)"
   ]
  },
  {
   "cell_type": "code",
   "execution_count": 43,
   "metadata": {},
   "outputs": [
    {
     "data": {
      "text/plain": [
       "49544"
      ]
     },
     "execution_count": 43,
     "metadata": {},
     "output_type": "execute_result"
    }
   ],
   "source": [
    "# Calculate frequency distribution\n",
    "fdist = nltk.FreqDist(tokens)\n",
    "\n",
    "len(fdist)\n",
    "# Output top 50 words\n",
    "# for word, frequency in fdist.most_common(50):\n",
    "#     print(u'{};{}'.format(word, frequency))"
   ]
  },
  {
   "cell_type": "code",
   "execution_count": 93,
   "metadata": {},
   "outputs": [],
   "source": [
    "import matplotlib.pyplot as pt\n",
    "\n",
    "#hai;9180;3\n",
    "\n",
    "\n",
    "# pt.plot(1,2,3)"
   ]
  },
  {
   "cell_type": "code",
   "execution_count": 16,
   "metadata": {},
   "outputs": [
    {
     "data": {
      "text/plain": [
       "396826"
      ]
     },
     "execution_count": 16,
     "metadata": {},
     "output_type": "execute_result"
    }
   ],
   "source": [
    "len(tokens)"
   ]
  },
  {
   "cell_type": "code",
   "execution_count": 45,
   "metadata": {},
   "outputs": [],
   "source": [
    "rank = list(range(1, len(fdist)))\n",
    "freqrank = zip(fdist.most_common(len(fdist)), rank)"
   ]
  },
  {
   "cell_type": "code",
   "execution_count": 240,
   "metadata": {},
   "outputs": [
    {
     "data": {
      "text/plain": [
       "[((u'@', 14396), 2),\n",
       " ((u'hai', 9180), 3),\n",
       " ((u':', 7516), 4),\n",
       " ((u'#', 7444), 5),\n",
       " ((u',', 7099), 6),\n",
       " ((u'?', 4895), 7),\n",
       " ((u'!', 4260), 8),\n",
       " ((u'to', 4004), 9),\n",
       " ((u'ke', 3077), 10)]"
      ]
     },
     "execution_count": 240,
     "metadata": {},
     "output_type": "execute_result"
    }
   ],
   "source": [
    "#top 10 ranked words\n",
    "freqrank[1:10]"
   ]
  },
  {
   "cell_type": "code",
   "execution_count": 238,
   "metadata": {},
   "outputs": [
    {
     "data": {
      "text/plain": [
       "[((u'Gudgaanva', 1), 49534),\n",
       " ((u'Bhausadike', 1), 49535),\n",
       " ((u'withstood', 1), 49536),\n",
       " ((u'lagye', 1), 49537),\n",
       " ((u'shera', 1), 49538),\n",
       " ((u'Modi_G', 1), 49539),\n",
       " ((u'shero', 1), 49540),\n",
       " ((u'wednesdaywisdom', 1), 49541),\n",
       " ((u'mastakon', 1), 49542)]"
      ]
     },
     "execution_count": 238,
     "metadata": {},
     "output_type": "execute_result"
    }
   ],
   "source": [
    "#lowest 10 ranked words\n",
    "freqrank[-10:-1]"
   ]
  },
  {
   "cell_type": "code",
   "execution_count": null,
   "metadata": {},
   "outputs": [],
   "source": [
    " ((u'to', 4004), 9),\n",
    " ((u'hi', 1728), 22),\n",
    " ((u'log', 415), 95),\n",
    " ((u'may', 255), 162),\n",
    " ((u'out', 251), 168),\n",
    " ((u'hone', 128), 312),\n",
    " ((u'tera', 113), 356),\n",
    " ((u'tab', 96), 430),\n",
    " ((u'season', 48), 864),\n"
   ]
  },
  {
   "cell_type": "code",
   "execution_count": 135,
   "metadata": {},
   "outputs": [
    {
     "data": {
      "text/plain": [
       "<matplotlib.collections.PathCollection at 0x7f223cb3bc10>"
      ]
     },
     "execution_count": 135,
     "metadata": {},
     "output_type": "execute_result"
    },
    {
     "data": {
      "image/png": "[encoded data removed]",
      "text/plain": [
       "<Figure size 432x288 with 1 Axes>"
      ]
     },
     "metadata": {
      "needs_background": "light"
     },
     "output_type": "display_data"
    }
   ],
   "source": [
    "#Frequency vs Rank plot: Zipf's law\n",
    "#The plot is a constant except first few instances\n",
    "import random\n",
    "\n",
    "rank_frequency_dict = {}\n",
    "\n",
    "for i in range(1000):\n",
    "    index = (int)(random.uniform(1,len(fdist)))\n",
    "    rank_frequency_dict[freqrank[index][1]] = freqrank[index][0][1]\n",
    "\n",
    "pt.xlabel('rank')\n",
    "pt.ylabel('frequency')\n",
    "pt.scatter(rank_frequency_dict.keys(),rank_frequency_dict.values())"
   ]
  },
  {
   "cell_type": "code",
   "execution_count": 237,
   "metadata": {},
   "outputs": [
    {
     "data": {
      "text/plain": [
       "<matplotlib.collections.PathCollection at 0x7f222e94df10>"
      ]
     },
     "execution_count": 237,
     "metadata": {},
     "output_type": "execute_result"
    },
    {
     "data": {
      "image/png": "[encoded data removed]",
      "text/plain": [
       "<Figure size 432x288 with 1 Axes>"
      ]
     },
     "metadata": {
      "needs_background": "light"
     },
     "output_type": "display_data"
    }
   ],
   "source": [
    "#Zipf's law for length: since the corpus is not large enough, zips's law is not visiable consistently\n",
    "\n",
    "import random\n",
    "\n",
    "rank_length_dict = {}\n",
    "\n",
    "for i in range(10000):\n",
    "    index = (int)(random.uniform(1,len(fdist)))\n",
    "    rank_length_dict[freqrank[index][1]] = len(freqrank[index][0][0])\n",
    "\n",
    "pt.xlabel('rank of the word')\n",
    "pt.ylabel('length of the word')\n",
    "pt.scatter(rank_length_dict.keys(), rank_length_dict.values())"
   ]
  },
  {
   "cell_type": "code",
   "execution_count": 160,
   "metadata": {},
   "outputs": [],
   "source": [
    "from nltk.corpus import wordnet "
   ]
  },
  {
   "cell_type": "code",
   "execution_count": 162,
   "metadata": {},
   "outputs": [
    {
     "data": {
      "text/plain": [
       "27"
      ]
     },
     "execution_count": 162,
     "metadata": {},
     "output_type": "execute_result"
    }
   ],
   "source": [
    "len(wordnet.synsets(\"good\"))"
   ]
  },
  {
   "cell_type": "code",
   "execution_count": 171,
   "metadata": {},
   "outputs": [
    {
     "data": {
      "text/plain": [
       "<matplotlib.collections.PathCollection at 0x7f222f28e5d0>"
      ]
     },
     "execution_count": 171,
     "metadata": {},
     "output_type": "execute_result"
    },
    {
     "data": {
      "image/png": "[encoded data removed]",
      "text/plain": [
       "<Figure size 432x288 with 1 Axes>"
      ]
     },
     "metadata": {
      "needs_background": "light"
     },
     "output_type": "display_data"
    }
   ],
   "source": [
    "#Zipf's law for meaning: since the corpus is not large enough, zips's law is not visiable consistently\n",
    "\n",
    "import random\n",
    "\n",
    "rank_meaning_dict = {}\n",
    "\n",
    "for i in range(100):\n",
    "    index = (int)(random.uniform(1,len(fdist)))\n",
    "    rank_meaning_dict[freqrank[index][1]] = len(wordnet.synsets(freqrank[index][0][0]))\n",
    "\n",
    "pt.xlabel('rank of the word')\n",
    "pt.ylabel('synsets of the word in WordNet')\n",
    "pt.scatter(rank_meaning_dict.keys(), rank_meaning_dict.values())"
   ]
  },
  {
   "cell_type": "code",
   "execution_count": 207,
   "metadata": {},
   "outputs": [],
   "source": [
    "#Heaps' Law\n",
    "#tokenizing words using nltk\n",
    "vocab_var = dict()\n",
    "\n",
    "for j in range(1000, 20000, 500):\n",
    "    tokens = []\n",
    "    for i in range(j):\n",
    "        for each in nltk.word_tokenize(rawtweets.iloc[i][0]):\n",
    "            tokens.append(each)\n",
    "    vocab_var[j] = len(list(set(tokens)))"
   ]
  },
  {
   "cell_type": "code",
   "execution_count": 234,
   "metadata": {},
   "outputs": [
    {
     "name": "stdout",
     "output_type": "stream",
     "text": [
      "{16000: 37624, 10500: 28368, 5000: 17125, 19500: 42896, 15500: 36830, 10000: 27438, 4500: 15937, 15000: 36036, 18500: 41495, 9500: 26490, 4000: 14712, 14500: 35197, 9000: 25532, 17500: 39952, 3500: 13426, 14000: 34371, 8500: 24562, 3000: 12109, 13500: 33572, 8000: 23557, 2500: 10738, 13000: 32772, 7500: 22590, 2000: 9252, 19000: 42221, 12500: 31884, 7000: 21469, 1500: 7489, 12000: 31052, 18000: 40745, 6500: 20424, 1000: 5493, 11500: 30158, 6000: 19339, 17000: 39181, 16500: 38434, 11000: 29333, 5500: 18257}\n"
     ]
    },
    {
     "data": {
      "text/plain": [
       "<matplotlib.collections.PathCollection at 0x7f222eb3af10>"
      ]
     },
     "execution_count": 234,
     "metadata": {},
     "output_type": "execute_result"
    },
    {
     "data": {
      "image/png": "[encoded data removed]",
      "text/plain": [
       "<Figure size 432x288 with 1 Axes>"
      ]
     },
     "metadata": {
      "needs_background": "light"
     },
     "output_type": "display_data"
    }
   ],
   "source": [
    "print(vocab_var)\n",
    "\n",
    "pt.xlabel('# of tweets')\n",
    "pt.ylabel(\"Vocabulary Size\")\n",
    "pt.scatter(vocab_var.keys(), vocab_var.values())"
   ]
  },
  {
   "cell_type": "code",
   "execution_count": null,
   "metadata": {},
   "outputs": [],
   "source": []
  },
  {
   "cell_type": "code",
   "execution_count": null,
   "metadata": {},
   "outputs": [],
   "source": []
  },
  {
   "cell_type": "code",
   "execution_count": null,
   "metadata": {},
   "outputs": [],
   "source": []
  }
 ],
 "metadata": {
  "kernelspec": {
   "display_name": "Python 2",
   "language": "python",
   "name": "python2"
  },
  "language_info": {
   "codemirror_mode": {
    "name": "ipython",
    "version": 2
   },
   "file_extension": ".py",
   "mimetype": "text/x-python",
   "name": "python",
   "nbconvert_exporter": "python",
   "pygments_lexer": "ipython2",
   "version": "2.7.16"
  }
 },
 "nbformat": 4,
 "nbformat_minor": 2
}
